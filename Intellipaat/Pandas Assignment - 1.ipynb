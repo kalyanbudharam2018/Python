{
 "cells": [
  {
   "cell_type": "markdown",
   "id": "cf16bc4e",
   "metadata": {},
   "source": [
    "Problem Statement:\n",
    "You work in XYZ Company as a Python. The company officials want you to build a python program.\n",
    "Link to Dataset Tasks to be performed:"
   ]
  },
  {
   "cell_type": "markdown",
   "id": "3a3fcb88",
   "metadata": {},
   "source": [
    "1. Write a function that takes start and end of a range returns a Pandas series object containing\n",
    "numbers within that range.\n",
    "In case the user does not pass start or end or both they should default to 1 and 10 respectively.\n",
    "eg.\n",
    " range_series() -> Should Return a pandas series from 1 to 10\n",
    " range_series(5) -> Should Return a pandas series from 5 to 10\n",
    " range_series(5, 10) -> Should Return a pandas series from 5 to 10."
   ]
  },
  {
   "cell_type": "code",
   "execution_count": 34,
   "id": "0412efce",
   "metadata": {},
   "outputs": [
    {
     "name": "stdout",
     "output_type": "stream",
     "text": [
      "0    1\n",
      "1    2\n",
      "2    3\n",
      "3    4\n",
      "4    5\n",
      "5    6\n",
      "6    7\n",
      "7    8\n",
      "8    9\n",
      "dtype: int64\n",
      "\n",
      " 0    5\n",
      "1    6\n",
      "2    7\n",
      "3    8\n",
      "4    9\n",
      "dtype: int64\n",
      "\n",
      " 0    5\n",
      "1    6\n",
      "2    7\n",
      "3    8\n",
      "4    9\n",
      "dtype: int64\n"
     ]
    }
   ],
   "source": [
    "import pandas as pd\n",
    "def range_series(start=1, end=10):\n",
    "    df1 = pd.Series(range(start,end))\n",
    "    return df1\n",
    "\n",
    "\n",
    "# range_series() -> Should Return a pandas series from 1 to 10\n",
    "print(range_series())\n",
    "\n",
    "# range_series(5) -> Should Return a pandas series from 5 to 10 \n",
    "print('\\n',range_series(5))\n",
    "\n",
    "# range_series(5, 10) -> Should Return a pandas series from 5 to 10.\n",
    "print('\\n',range_series(5,10))\n",
    "\n",
    "\n"
   ]
  },
  {
   "cell_type": "markdown",
   "id": "3da7d49e",
   "metadata": {},
   "source": [
    "2. Create a function that takes in two lists named keys and values as arguments.\n",
    "Keys would be strings and contain n string values.\n",
    "Values would be a list containing n lists.\n",
    "The methods should return a new pandas dataframe with keys as column names and values as\n",
    "their corresponding values\n",
    "e.g. -> create_dataframe([\"One\", \"Two\"], [[\"X\", \"Y\"], [\"A\", \"B\"]]) -> should return a dataframe\n",
    "\n",
    "One Two\n",
    "\n",
    "0 X A\n",
    "\n",
    "1 Y B "
   ]
  },
  {
   "cell_type": "code",
   "execution_count": 25,
   "id": "f1f5b51f",
   "metadata": {},
   "outputs": [
    {
     "data": {
      "text/html": [
       "<div>\n",
       "<style scoped>\n",
       "    .dataframe tbody tr th:only-of-type {\n",
       "        vertical-align: middle;\n",
       "    }\n",
       "\n",
       "    .dataframe tbody tr th {\n",
       "        vertical-align: top;\n",
       "    }\n",
       "\n",
       "    .dataframe thead th {\n",
       "        text-align: right;\n",
       "    }\n",
       "</style>\n",
       "<table border=\"1\" class=\"dataframe\">\n",
       "  <thead>\n",
       "    <tr style=\"text-align: right;\">\n",
       "      <th></th>\n",
       "      <th>One</th>\n",
       "      <th>Two</th>\n",
       "    </tr>\n",
       "  </thead>\n",
       "  <tbody>\n",
       "    <tr>\n",
       "      <th>0</th>\n",
       "      <td>X</td>\n",
       "      <td>A</td>\n",
       "    </tr>\n",
       "    <tr>\n",
       "      <th>1</th>\n",
       "      <td>Y</td>\n",
       "      <td>B</td>\n",
       "    </tr>\n",
       "  </tbody>\n",
       "</table>\n",
       "</div>"
      ],
      "text/plain": [
       "  One Two\n",
       "0   X   A\n",
       "1   Y   B"
      ]
     },
     "execution_count": 25,
     "metadata": {},
     "output_type": "execute_result"
    }
   ],
   "source": [
    "def create_dataframe(keys, values):\n",
    "    dic = {}\n",
    "    for i in range(len(keys)):\n",
    "        dic[keys[i]] = values[i]\n",
    "    df2 = pd.DataFrame(dic)\n",
    "    return df2\n",
    "create_dataframe([\"One\", \"Two\"], [[\"X\", \"Y\"], [\"A\", \"B\"]]) \n",
    "\n",
    "\n",
    "# df=pd.DataFrame({'One':['X','Y'], 'Two':['A', 'B']})\n",
    "# print(df)\n"
   ]
  },
  {
   "cell_type": "markdown",
   "id": "765a7749",
   "metadata": {},
   "source": [
    "3. Create a function that concatenates two dataframes. Use previously created function to create\n",
    "two dataframes and pass them as parameters Make sure that the indexes are reset before\n",
    "returning: "
   ]
  },
  {
   "cell_type": "code",
   "execution_count": 39,
   "id": "bdf7a5a8",
   "metadata": {},
   "outputs": [
    {
     "ename": "NameError",
     "evalue": "name 'df2' is not defined",
     "output_type": "error",
     "traceback": [
      "\u001b[1;31m---------------------------------------------------------------------------\u001b[0m",
      "\u001b[1;31mNameError\u001b[0m                                 Traceback (most recent call last)",
      "Input \u001b[1;32mIn [39]\u001b[0m, in \u001b[0;36m<cell line: 4>\u001b[1;34m()\u001b[0m\n\u001b[0;32m      2\u001b[0m     df \u001b[38;5;241m=\u001b[39m pd\u001b[38;5;241m.\u001b[39mconcat([train, test], axis\u001b[38;5;241m=\u001b[39m\u001b[38;5;241m0\u001b[39m, ignore_index \u001b[38;5;241m=\u001b[39m \u001b[38;5;28;01mTrue\u001b[39;00m)\n\u001b[0;32m      3\u001b[0m     \u001b[38;5;28;01mreturn\u001b[39;00m df\n\u001b[1;32m----> 4\u001b[0m con_df(df1,\u001b[43mdf2\u001b[49m)\n",
      "\u001b[1;31mNameError\u001b[0m: name 'df2' is not defined"
     ]
    }
   ],
   "source": [
    "def con_df(df1, df2):\n",
    "    df = pd.concat([train, test], axis=0, ignore_index = True)\n",
    "    return df\n",
    "con_df(df1,df2)"
   ]
  },
  {
   "cell_type": "markdown",
   "id": "e41dfa50",
   "metadata": {},
   "source": [
    "4. Write code to load data from cars.csv into a dataframe and print its details. Details like: 'count',\n",
    "'mean', 'std', 'min', '25%', '50%', '75%', 'max'. "
   ]
  },
  {
   "cell_type": "code",
   "execution_count": 48,
   "id": "ff0e245b",
   "metadata": {},
   "outputs": [
    {
     "name": "stdout",
     "output_type": "stream",
     "text": [
      "               model   mpg  cyl   disp   hp  drat     wt   qsec  vs  am  gear  carb\n",
      "0          Mazda RX4  21.0    6  160.0  110  3.90  2.620  16.46   0   1     4     4\n",
      "1      Mazda RX4 Wag  21.0    6  160.0  110  3.90  2.875  17.02   0   1     4     4\n",
      "2         Datsun 710  22.8    4  108.0   93  3.85  2.320  18.61   1   1     4     1\n",
      "3     Hornet 4 Drive  21.4    6  258.0  110  3.08  3.215  19.44   1   0     3     1\n",
      "4  Hornet Sportabout  18.7    8  360.0  175  3.15  3.440  17.02   0   0     3     2\n",
      "             mpg        cyl        disp          hp       drat  ...       qsec         vs         am       gear     carb\n",
      "count  32.000000  32.000000   32.000000   32.000000  32.000000  ...  32.000000  32.000000  32.000000  32.000000  32.0000\n",
      "mean   20.090625   6.187500  230.721875  146.687500   3.596563  ...  17.848750   0.437500   0.406250   3.687500   2.8125\n",
      "std     6.026948   1.785922  123.938694   68.562868   0.534679  ...   1.786943   0.504016   0.498991   0.737804   1.6152\n",
      "min    10.400000   4.000000   71.100000   52.000000   2.760000  ...  14.500000   0.000000   0.000000   3.000000   1.0000\n",
      "25%    15.425000   4.000000  120.825000   96.500000   3.080000  ...  16.892500   0.000000   0.000000   3.000000   2.0000\n",
      "50%    19.200000   6.000000  196.300000  123.000000   3.695000  ...  17.710000   0.000000   0.000000   4.000000   2.0000\n",
      "75%    22.800000   8.000000  326.000000  180.000000   3.920000  ...  18.900000   1.000000   1.000000   4.000000   4.0000\n",
      "max    33.900000   8.000000  472.000000  335.000000   4.930000  ...  22.900000   1.000000   1.000000   5.000000   8.0000\n",
      "\n",
      "[8 rows x 11 columns]\n"
     ]
    }
   ],
   "source": [
    "cars=pd.read_csv(r'B:\\MY COMPUTER (HOME)\\2 IT\\Intellipaat course\\python with data science\\python-Datasets\\python Datasets\\cars.csv')\n",
    "print(cars.head())\n",
    "print(cars.describe())"
   ]
  },
  {
   "cell_type": "markdown",
   "id": "0e846f50",
   "metadata": {},
   "source": [
    "5. Write a method that will take a column name as argument and return the name of the column\n",
    "with which the\n",
    "given column has the highest correlation.\n",
    "The data to be used is the cars dataset.\n",
    "The returned value should not the column named that was passed as the parameters.\n",
    "E.G: get_max_correlated_column('mpg') -> should return 'drat'"
   ]
  },
  {
   "cell_type": "code",
   "execution_count": 50,
   "id": "bd3afa97",
   "metadata": {},
   "outputs": [
    {
     "data": {
      "text/plain": [
       "'wt'"
      ]
     },
     "execution_count": 50,
     "metadata": {},
     "output_type": "execute_result"
    }
   ],
   "source": [
    "def max_correlated_col(col, dataset):\n",
    "    dic = {}s\n",
    "    list1 = [x for x in dataset.columns if dataset[x].dtypes == float]\n",
    "    for i in list1:\n",
    "        dic[i] = abs(dataset[col].corr(dataset[i]))\n",
    "    return max(dic)\n",
    "max_correlated_col('mpg', cars)"
   ]
  },
  {
   "cell_type": "code",
   "execution_count": null,
   "id": "d874dd6f",
   "metadata": {},
   "outputs": [],
   "source": []
  }
 ],
 "metadata": {
  "kernelspec": {
   "display_name": "Python 3 (ipykernel)",
   "language": "python",
   "name": "python3"
  },
  "language_info": {
   "codemirror_mode": {
    "name": "ipython",
    "version": 3
   },
   "file_extension": ".py",
   "mimetype": "text/x-python",
   "name": "python",
   "nbconvert_exporter": "python",
   "pygments_lexer": "ipython3",
   "version": "3.9.12"
  }
 },
 "nbformat": 4,
 "nbformat_minor": 5
}
