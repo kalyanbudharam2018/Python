{
 "cells": [
  {
   "cell_type": "markdown",
   "id": "5e4c19f3",
   "metadata": {},
   "source": [
    "## Problem Statement:\n",
    "You work in XYZ Company as a Python. The company officials want you to build a python program.\n",
    "Tasks to be performed:"
   ]
  },
  {
   "cell_type": "code",
   "execution_count": 19,
   "id": "e1982c05",
   "metadata": {},
   "outputs": [
    {
     "name": "stdout",
     "output_type": "stream",
     "text": [
      "[[5 5 5]\n",
      " [5 5 5]\n",
      " [5 5 5]]\n"
     ]
    },
    {
     "data": {
      "text/plain": [
       "array([[5, 5, 5],\n",
       "       [5, 5, 5],\n",
       "       [5, 5, 5]])"
      ]
     },
     "execution_count": 19,
     "metadata": {},
     "output_type": "execute_result"
    }
   ],
   "source": [
    "# 1. Create a function that takes dimensions as tuples e.g.(3, 3) and a numeric value and returns a Numpy array of the given \n",
    "# dimension filled with the given value e.g.: solve((3, 3), 5) will return \n",
    "'''[\n",
    " [5, 5, 5],\n",
    " [5, 5, 5],\n",
    " [5, 5, 5]\n",
    "]\n",
    "'''\n",
    "import numpy as np\n",
    "a=np.full([3,3],5)\n",
    "print(a)                # observe the difference between print(a) and a only\n",
    "a"
   ]
  },
  {
   "cell_type": "code",
   "execution_count": 20,
   "id": "c7aba011",
   "metadata": {},
   "outputs": [
    {
     "data": {
      "text/plain": [
       "45"
      ]
     },
     "execution_count": 20,
     "metadata": {},
     "output_type": "execute_result"
    }
   ],
   "source": [
    "# 2. Create a method that takes n Numpy arrays of same dimensions sums them and return the answer\n",
    "a.sum()"
   ]
  },
  {
   "cell_type": "code",
   "execution_count": 31,
   "id": "fc284bde",
   "metadata": {},
   "outputs": [
    {
     "name": "stdout",
     "output_type": "stream",
     "text": [
      "Please enter the value of number in array: 6\n",
      "Please enter the number of rows in array: 5\n",
      "Please enter the number of columns in array: 4\n",
      "The array for 6 number with 5 rows and 4 columns is:\n",
      " [[6 6 6 6]\n",
      " [6 6 6 6]\n",
      " [6 6 6 6]\n",
      " [6 6 6 6]\n",
      " [6 6 6 6]]\n",
      "The sum of the array is:  120\n"
     ]
    }
   ],
   "source": [
    "# 1. and 2. problems with input from the user\n",
    "p=int(input('Please enter the value of number in array: '))\n",
    "q=int(input('Please enter the number of rows in array: '))\n",
    "r=int(input('Please enter the number of columns in array: '))\n",
    "a=np.full([q,r],p)\n",
    "print('The array for %d number with %d rows and %d columns is:\\n'%(p,q,r),a)\n",
    "print('The sum of the array is: ', a.sum())"
   ]
  },
  {
   "cell_type": "markdown",
   "id": "367de7a1",
   "metadata": {},
   "source": [
    " 3. Given a 2 D Array of N X M Dimension, \n",
    "Write a function that accepts this array as well as two numbers N and M. The method should return the top-left N X M sub matrix e.g:\n",
    " [\n",
    " [1, 2, 3],\n",
    " [4, 5, 6],\n",
    " [7, 8, 9],\n",
    " ]\n",
    "top_left_sub_matrix (matrix, 2, 2) -> should return:\n",
    " [\n",
    " [1, 2]\n",
    " [4, 5]\n",
    " ]"
   ]
  },
  {
   "cell_type": "code",
   "execution_count": 36,
   "id": "365d89d6",
   "metadata": {},
   "outputs": [
    {
     "name": "stdout",
     "output_type": "stream",
     "text": [
      "[[1 2 3]\n",
      " [4 5 6]\n",
      " [7 8 9]]\n"
     ]
    }
   ],
   "source": [
    "# Write a function that accepts this array as well as two numbers N and M. e.g: [ [1, 2, 3], [4, 5, 6], [7, 8, 9], ]\n",
    "a=np.array([[1,2,3],[4,5,6],[7,8,9]])\n",
    "print(a)"
   ]
  },
  {
   "cell_type": "code",
   "execution_count": 33,
   "id": "5b335b08",
   "metadata": {},
   "outputs": [
    {
     "name": "stdout",
     "output_type": "stream",
     "text": [
      "[[1 2]\n",
      " [4 5]]\n"
     ]
    }
   ],
   "source": [
    "# top_left_sub_matrix (matrix, 2, 2) -> should return:\n",
    "b=a[:2,:2]\n",
    "print(b)"
   ]
  },
  {
   "cell_type": "markdown",
   "id": "a6e121c2",
   "metadata": {},
   "source": [
    "4. Given a 2 D Array of N X M Dimension, Write a function that accepts this array as well as two\n",
    "numbers N and M The method should return the bottom-right N X M sub matrix e.g.:\n",
    " [\n",
    " [1, 2, 3],\n",
    " [4, 5, 6],\n",
    " [7, 8, 9],\n",
    " ]\n",
    "sub_matrix(matrix, 1, 1) -> should return : (Keep in mind these arrays are zero indexed)\n",
    " [\n",
    " [5, 6]\n",
    " [8, 9]\n",
    " ]"
   ]
  },
  {
   "cell_type": "code",
   "execution_count": 35,
   "id": "83b92204",
   "metadata": {},
   "outputs": [
    {
     "name": "stdout",
     "output_type": "stream",
     "text": [
      "[[5 6]\n",
      " [8 9]]\n"
     ]
    }
   ],
   "source": [
    "# sub_matrix(matrix, 1, 1) -> should return :[ [5, 6] [8, 9] ]\n",
    "c=a[1:,1:]\n",
    "print(c)"
   ]
  },
  {
   "cell_type": "markdown",
   "id": "fda5fe7a",
   "metadata": {},
   "source": [
    "5. Given a 1 D Numpy Array. Write a function that accepts this array as parameters. The method\n",
    "should return a dictionary with 'mean' and 'std_dev' as key and array's mean and array's\n",
    "standard deviation as values:\n",
    " [1, 1, 1]\n",
    "solution(arr) -> should return :\n",
    " {'mean': 1.0, 'std_dev': 0.0}"
   ]
  },
  {
   "cell_type": "code",
   "execution_count": 74,
   "id": "0cced195",
   "metadata": {},
   "outputs": [
    {
     "name": "stdout",
     "output_type": "stream",
     "text": [
      "mean is : 1.0\n",
      "standard deviation is : 0.0\n",
      "In dictionary format: \n",
      "{'mean': 1.0, 'std_dev': 0.0}\n"
     ]
    }
   ],
   "source": [
    "d=np.array([1,1,1])\n",
    "e=d.mean()\n",
    "f=d.std()\n",
    "print('mean is :',e)\n",
    "print('standard deviation is :', f)\n",
    "print('In dictionary format: ')\n",
    "a={'mean':e, 'std_dev':f}\n",
    "print(a)"
   ]
  },
  {
   "cell_type": "code",
   "execution_count": null,
   "id": "583b572d",
   "metadata": {},
   "outputs": [],
   "source": []
  }
 ],
 "metadata": {
  "kernelspec": {
   "display_name": "Python 3 (ipykernel)",
   "language": "python",
   "name": "python3"
  },
  "language_info": {
   "codemirror_mode": {
    "name": "ipython",
    "version": 3
   },
   "file_extension": ".py",
   "mimetype": "text/x-python",
   "name": "python",
   "nbconvert_exporter": "python",
   "pygments_lexer": "ipython3",
   "version": "3.9.12"
  }
 },
 "nbformat": 4,
 "nbformat_minor": 5
}
