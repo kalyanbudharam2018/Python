{
 "cells": [
  {
   "cell_type": "markdown",
   "id": "99232786",
   "metadata": {},
   "source": [
    "# Numpy Operations\n",
    "\n"
   ]
  },
  {
   "cell_type": "code",
   "execution_count": 1,
   "id": "e6b9ba8b",
   "metadata": {},
   "outputs": [],
   "source": [
    "import numpy as np"
   ]
  },
  {
   "cell_type": "code",
   "execution_count": 3,
   "id": "7c5da775",
   "metadata": {},
   "outputs": [
    {
     "data": {
      "text/plain": [
       "array([[0., 0., 0.],\n",
       "       [0., 0., 0.]])"
      ]
     },
     "execution_count": 3,
     "metadata": {},
     "output_type": "execute_result"
    }
   ],
   "source": [
    "#  Create np array of zeroes of size (2, 3) run the following code.\n",
    "np.zeros((2,3))"
   ]
  },
  {
   "cell_type": "code",
   "execution_count": 5,
   "id": "ac2304a6",
   "metadata": {},
   "outputs": [
    {
     "data": {
      "text/plain": [
       "array([1, 2, 3, 4, 5, 6])"
      ]
     },
     "execution_count": 5,
     "metadata": {},
     "output_type": "execute_result"
    }
   ],
   "source": [
    "# Flatten 2D np Array to 1d np array\n",
    "ar=np.array([[1,2,3],[4,5,6]])\n",
    "ar.ravel()"
   ]
  },
  {
   "cell_type": "code",
   "execution_count": 10,
   "id": "6b741ae0",
   "metadata": {},
   "outputs": [
    {
     "data": {
      "text/plain": [
       "array([[1, 2],\n",
       "       [3, 4],\n",
       "       [5, 6]])"
      ]
     },
     "execution_count": 10,
     "metadata": {},
     "output_type": "execute_result"
    }
   ],
   "source": [
    "#  Convert 1D np Array to 2d np array from a python list:\n",
    "arr=np.reshape(ar,(3,2))               \n",
    "arr\n",
    "\n",
    "# or ar.reshape((3,2))"
   ]
  },
  {
   "cell_type": "code",
   "execution_count": 18,
   "id": "a447738e",
   "metadata": {},
   "outputs": [
    {
     "name": "stdout",
     "output_type": "stream",
     "text": [
      "[1 3 4 5 6 9]\n"
     ]
    }
   ],
   "source": [
    "# Create np array and sort sort\n",
    "ar=np.array([1,9,5,6,3,4])\n",
    "ar.sort()\n",
    "print(ar)"
   ]
  },
  {
   "cell_type": "code",
   "execution_count": 26,
   "id": "24de2819",
   "metadata": {},
   "outputs": [
    {
     "data": {
      "text/plain": [
       "array([3, 4, 5, 6])"
      ]
     },
     "execution_count": 26,
     "metadata": {},
     "output_type": "execute_result"
    }
   ],
   "source": [
    "# Slice an np array to create another array without the first two elements of the original array\n",
    "a=np.array([1,2,3,4,5,6])\n",
    "b=a[2:]\n",
    "b"
   ]
  }
 ],
 "metadata": {
  "kernelspec": {
   "display_name": "Python 3 (ipykernel)",
   "language": "python",
   "name": "python3"
  },
  "language_info": {
   "codemirror_mode": {
    "name": "ipython",
    "version": 3
   },
   "file_extension": ".py",
   "mimetype": "text/x-python",
   "name": "python",
   "nbconvert_exporter": "python",
   "pygments_lexer": "ipython3",
   "version": "3.9.12"
  }
 },
 "nbformat": 4,
 "nbformat_minor": 5
}
