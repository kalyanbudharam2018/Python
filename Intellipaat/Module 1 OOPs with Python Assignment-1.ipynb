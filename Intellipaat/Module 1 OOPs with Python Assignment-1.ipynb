{
 "cells": [
  {
   "cell_type": "markdown",
   "id": "92106fa3",
   "metadata": {},
   "source": [
    "Problem Statement:\n",
    "Consider yourself to be Sam who is software engineer. He has been to build an employee management\n",
    "app. You have to use OOP concepts to build a few classes as outline in the steps below.\n",
    "Tasks to be performed:\n"
   ]
  },
  {
   "cell_type": "code",
   "execution_count": 13,
   "id": "466c21b4",
   "metadata": {},
   "outputs": [
    {
     "name": "stdout",
     "output_type": "stream",
     "text": [
      "Name:  Kalyan\n",
      "Salary:  30000\n"
     ]
    }
   ],
   "source": [
    "# 1. Create a class names Employee, with a constructor ‘__init__’ method that accepts name and\n",
    "# salary as parameters and set properties named name and salary.\n",
    "class Employee():\n",
    "    def __init__(self, name, salary):\n",
    "        self.name=name\n",
    "        self.salary= salary\n",
    "    def details(self):\n",
    "        print('Name: ', self.name)\n",
    "        print('Salary: ', self.salary)\n",
    "# 2. Define __str__ method in Employee class so that when someone tries to print the object the\n",
    "# string Name: employee_name, Salary: employee_salary is printed with the actual employee\n",
    "# name and salary.        \n",
    "a=Employee('Kalyan', 30000)\n",
    "a.details()\n"
   ]
  },
  {
   "cell_type": "code",
   "execution_count": 32,
   "id": "bf41f906",
   "metadata": {},
   "outputs": [
    {
     "name": "stdout",
     "output_type": "stream",
     "text": [
      "For numbers 5 and 6 :\n",
      "The addition of numbers:  11\n",
      "The subtraction of numbers:  -1\n",
      "The multiplication of numbers:  30\n",
      "The division of numbers:  0.8333333333333334\n"
     ]
    }
   ],
   "source": [
    "# 3. Create another class named Calculator, with methods to add, subtract, multiply and divide two\n",
    "# numbers. 4. These methods take two numbers as parameters. 5. These methods will be called by method named execute command.\n",
    "# 6. Execute command takes in 3 parameters command which is string that can be either ‘add’, ‘sub’,\n",
    "# ‘mul’, ‘div’, and two numbers and it will call the appropriate method based on command parameter.\n",
    "\n",
    "class Calculator:\n",
    "    def add(a,b):\n",
    "        print('For numbers %d and %d :'%(a,b))\n",
    "        c=a+b\n",
    "        print('The addition of numbers: ',c)\n",
    "    def sub(a,b):\n",
    "        c=a-b\n",
    "        print('The subtraction of numbers: ',c)\n",
    "    def mul(a,b):\n",
    "        c=a*b\n",
    "        print('The multiplication of numbers: ',c)\n",
    "    def div(a,b):\n",
    "        c=a/b\n",
    "        print('The division of numbers: ',c)\n",
    "        \n",
    "Calculator.add(5,6)\n",
    "Calculator.sub(5,6)\n",
    "Calculator.mul(5,6)\n",
    "Calculator.div(5,6)\n"
   ]
  },
  {
   "cell_type": "code",
   "execution_count": null,
   "id": "3db56651",
   "metadata": {},
   "outputs": [],
   "source": []
  }
 ],
 "metadata": {
  "kernelspec": {
   "display_name": "Python 3 (ipykernel)",
   "language": "python",
   "name": "python3"
  },
  "language_info": {
   "codemirror_mode": {
    "name": "ipython",
    "version": 3
   },
   "file_extension": ".py",
   "mimetype": "text/x-python",
   "name": "python",
   "nbconvert_exporter": "python",
   "pygments_lexer": "ipython3",
   "version": "3.9.12"
  }
 },
 "nbformat": 4,
 "nbformat_minor": 5
}
