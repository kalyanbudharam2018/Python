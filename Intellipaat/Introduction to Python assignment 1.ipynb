{
 "cells": [
  {
   "cell_type": "markdown",
   "id": "842d6023",
   "metadata": {},
   "source": [
    "# 1. Create a list containing squares of numbers from 1 to 10"
   ]
  },
  {
   "cell_type": "code",
   "execution_count": 10,
   "id": "0bb080ea",
   "metadata": {},
   "outputs": [
    {
     "name": "stdout",
     "output_type": "stream",
     "text": [
      "1\n",
      "4\n",
      "9\n",
      "16\n",
      "25\n",
      "36\n",
      "49\n",
      "64\n",
      "81\n"
     ]
    }
   ],
   "source": [
    "for i in range(1,10):\n",
    "    x=i**2\n",
    "    print(x)\n",
    "    "
   ]
  },
  {
   "cell_type": "markdown",
   "id": "a43c3eeb",
   "metadata": {},
   "source": [
    "# 2. Function to check if year is a leap year"
   ]
  },
  {
   "cell_type": "code",
   "execution_count": 48,
   "id": "562b8d0f",
   "metadata": {},
   "outputs": [
    {
     "name": "stdout",
     "output_type": "stream",
     "text": [
      "Enter the year: 2012\n",
      "2012 is not the leap year.\n"
     ]
    }
   ],
   "source": [
    "year=int(input('Enter the year: '))\n",
    "if year%400==0 or year%4==0 and year%100==0:\n",
    "    print(\"%d is the leap year.\"%(year))\n",
    "else:\n",
    "    print(\"%d is not the leap year.\"%(year))"
   ]
  },
  {
   "cell_type": "markdown",
   "id": "48907e65",
   "metadata": {},
   "source": [
    "# 3. Write a Function to take an array and return another array that contains the members of first array that are even."
   ]
  },
  {
   "cell_type": "code",
   "execution_count": 64,
   "id": "57620513",
   "metadata": {},
   "outputs": [
    {
     "name": "stdout",
     "output_type": "stream",
     "text": [
      "2\n",
      "4\n",
      "6\n",
      "8\n",
      "10\n",
      "12\n",
      "14\n",
      "16\n",
      "18\n",
      "20\n",
      "22\n",
      "24\n"
     ]
    },
    {
     "data": {
      "text/plain": [
       "function"
      ]
     },
     "execution_count": 64,
     "metadata": {},
     "output_type": "execute_result"
    }
   ],
   "source": [
    "'''for i in range(1,10):\n",
    "    if i%2==0:\n",
    "        print(i)'''\n",
    "# or in function form\n",
    "def evenarr(x):\n",
    "    for i in range(1,x):\n",
    "        if i%2==0:\n",
    "            print(i)\n",
    "              \n",
    "evenarr(25)\n",
    "type(evenarr)\n",
    "     \n"
   ]
  },
  {
   "cell_type": "markdown",
   "id": "cbb9a6e2",
   "metadata": {},
   "source": [
    "# 4. Write a Function that takes 2 arrays and prints the members of first array that are present of second array. (HINT: use Membership Comprehension)"
   ]
  },
  {
   "cell_type": "code",
   "execution_count": 99,
   "id": "372a8c8e",
   "metadata": {},
   "outputs": [
    {
     "name": "stdout",
     "output_type": "stream",
     "text": [
      "1\n",
      "3\n",
      "4\n",
      "5\n",
      "4\n",
      "6\n"
     ]
    }
   ],
   "source": [
    "a=[1,2,3,4,5,8,4,6]\n",
    "b=[5,3,4,9,5,1,3,6]\n",
    "def common():\n",
    "    for i in a:\n",
    "        if i in b:\n",
    "            print(i)\n",
    "common()\n"
   ]
  }
 ],
 "metadata": {
  "kernelspec": {
   "display_name": "Python 3 (ipykernel)",
   "language": "python",
   "name": "python3"
  },
  "language_info": {
   "codemirror_mode": {
    "name": "ipython",
    "version": 3
   },
   "file_extension": ".py",
   "mimetype": "text/x-python",
   "name": "python",
   "nbconvert_exporter": "python",
   "pygments_lexer": "ipython3",
   "version": "3.9.12"
  }
 },
 "nbformat": 4,
 "nbformat_minor": 5
}
