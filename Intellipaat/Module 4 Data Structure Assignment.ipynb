{
 "cells": [
  {
   "cell_type": "markdown",
   "id": "4df75e8e",
   "metadata": {},
   "source": [
    "## Problem Statement:\n",
    "You work in XYZ Corporation as a Data Analyst. Your corporation has told you to work with the\n",
    "structure of the Data.\n",
    "Tasks to be performed:"
   ]
  },
  {
   "cell_type": "markdown",
   "id": "cddb1971",
   "metadata": {},
   "source": [
    "1. Create a list named ‘myList’ that is having the following elements: 10,20,30,’apple’, True, 8.10.\n",
    "a. Now in the ‘myList’, append these values: 30,40\n",
    "b. After that reverse the elements of the ‘myList’ and store that in ‘reversedList’\n"
   ]
  },
  {
   "cell_type": "code",
   "execution_count": 12,
   "id": "14c18f23",
   "metadata": {},
   "outputs": [
    {
     "name": "stdout",
     "output_type": "stream",
     "text": [
      "[10, 20, 30, 'apple', 'True', 8.1]\n",
      "[10, 20, 30, 'apple', 'True', 8.1, 30, 40]\n",
      "[40, 30, 8.1, 'True', 'apple', 30, 20, 10]\n"
     ]
    }
   ],
   "source": [
    "mylist=[10,20,30,'apple','True',8.10]\n",
    "print(mylist)\n",
    "# a. Now in the ‘myList’, append these values: 30,40 \n",
    "mylist.append(30)\n",
    "mylist.append(40)\n",
    "print(mylist)\n",
    "\n",
    "# b. After that reverse the elements of the ‘myList’ and store that in ‘reversedList’\n",
    "mylist.reverse()\n",
    "print(mylist)\n"
   ]
  },
  {
   "cell_type": "markdown",
   "id": "59af487c",
   "metadata": {},
   "source": [
    "2. Create a dictonary with key values as 1,2,3 and the values as ‘data’,’information’, and ‘text’.\n",
    "a. After that eliminate the ‘text’ value form the dictonary.\n",
    "b. Add ‘features’ in the dictonary.\n",
    "c. Fetch the ‘data’ element from the dictonary and display it in the output."
   ]
  },
  {
   "cell_type": "code",
   "execution_count": 41,
   "id": "c4d8c2d1",
   "metadata": {},
   "outputs": [
    {
     "name": "stdout",
     "output_type": "stream",
     "text": [
      "{1: 'data', 2: 'information', 3: 'text'}\n",
      "{1: 'data', 2: 'information'}\n",
      "{1: 'data', 2: 'information', 3: 'features'}\n",
      "data\n",
      "dict_values(['data', 'information', 'features'])\n"
     ]
    }
   ],
   "source": [
    "# Create a dictonary with key values as 1,2,3 and the values as ‘data’,’information’, and ‘text’.\n",
    "d={1:'data', 2:'information',3:'text'}\n",
    "print(d)\n",
    "\n",
    "# a. After that eliminate the ‘text’ value form the dictonary.\n",
    "d.pop(3)\n",
    "print(d)\n",
    "\n",
    "# b. Add ‘features’ in the dictonary. \n",
    "d[3]='features'\n",
    "print(d)\n",
    "\n",
    "# c. Fetch the ‘data’ element from the dictonary and display it in the output.\n",
    "a=d[1]\n",
    "print(a)\n",
    "print(d.values())"
   ]
  },
  {
   "cell_type": "markdown",
   "id": "3f825d8e",
   "metadata": {},
   "source": [
    "3. Create a tuple and add these elements 1,2,3,apple,mango in ‘my_tuple\n"
   ]
  },
  {
   "cell_type": "code",
   "execution_count": 44,
   "id": "03970d84",
   "metadata": {},
   "outputs": [
    {
     "name": "stdout",
     "output_type": "stream",
     "text": [
      "(1, 2, 3, 'apple', 'mango')\n"
     ]
    },
    {
     "data": {
      "text/plain": [
       "tuple"
      ]
     },
     "execution_count": 44,
     "metadata": {},
     "output_type": "execute_result"
    }
   ],
   "source": [
    "my_tuple=(1,2,3,'apple','mango')\n",
    "print(my_tuple)\n",
    "type(my_tuple)\n"
   ]
  },
  {
   "cell_type": "markdown",
   "id": "6d92d2c1",
   "metadata": {},
   "source": [
    "4. Create another tuple named numeric_tuple consisting of only integer values 10,20,30,40,50\n",
    "a. Find the minimum value from the numeric_tuple.\n",
    "b. Concatenate my_tuple with numeric_tuple and store the result in r1.\n",
    "c. Duplicate the tuple named my_tuple 2 times and store that in ‘newdupli’.\n"
   ]
  },
  {
   "cell_type": "code",
   "execution_count": 45,
   "id": "7619de8e",
   "metadata": {},
   "outputs": [
    {
     "name": "stdout",
     "output_type": "stream",
     "text": [
      "(10, 20, 30, 40, 50)\n"
     ]
    }
   ],
   "source": [
    "numeric_tuple=(10,20,30,40,50)\n",
    "print(numeric_tuple)"
   ]
  },
  {
   "cell_type": "code",
   "execution_count": 51,
   "id": "3b7ec41d",
   "metadata": {},
   "outputs": [
    {
     "name": "stdout",
     "output_type": "stream",
     "text": [
      "10\n",
      "(1, 2, 3, 'apple', 'mango', 10, 20, 30, 40, 50)\n",
      "(1, 2, 3, 'apple', 'mango', 1, 2, 3, 'apple', 'mango')\n"
     ]
    }
   ],
   "source": [
    "# a. Find the minimum value from the numeric_tuple. \n",
    "print(min(numeric_tuple))\n",
    "\n",
    "# b. Concatenate my_tuple with numeric_tuple and store the result in r1. \n",
    "r1=my_tuple+numeric_tuple\n",
    "print(r1)\n",
    "\n",
    "# c. Duplicate the tuple named my_tuple 2 times and store that in ‘newdupli’.\n",
    "newdupli=my_tuple*2\n",
    "print(newdupli)"
   ]
  },
  {
   "cell_type": "markdown",
   "id": "d54535c6",
   "metadata": {},
   "source": [
    "5. Create 2 sets with name set1 and set2, where set1 contains{1,2,3,4,5} and set2 to\n",
    "contains{2,3,7,6,1}\n",
    "a. Perform the below operation:\n",
    "a. set1 union set2\n",
    "b. set1 intersection set2\n",
    "c. set1 difference set2"
   ]
  },
  {
   "cell_type": "code",
   "execution_count": 52,
   "id": "20ccbea9",
   "metadata": {},
   "outputs": [
    {
     "name": "stdout",
     "output_type": "stream",
     "text": [
      "{1, 2, 3, 4, 5} {1, 2, 3, 6, 7}\n"
     ]
    }
   ],
   "source": [
    "set1={1,2,3,4,5}\n",
    "set2={2,3,7,6,1}\n",
    "print(set1, set2)"
   ]
  },
  {
   "cell_type": "code",
   "execution_count": 62,
   "id": "22d82dbf",
   "metadata": {},
   "outputs": [
    {
     "name": "stdout",
     "output_type": "stream",
     "text": [
      "{1, 2, 3, 4, 5, 6, 7}\n",
      "{1, 2, 3}\n",
      "{4, 5}\n"
     ]
    }
   ],
   "source": [
    "# a. set1 union set2 \n",
    "print(set1.union(set2))\n",
    "\n",
    "# b. set1 intersection set2 \n",
    "print(set1.intersection(set2))\n",
    "\n",
    "# c. set1 difference set2\n",
    "print(set1.difference(set2))"
   ]
  },
  {
   "cell_type": "code",
   "execution_count": null,
   "id": "025f35ec",
   "metadata": {},
   "outputs": [],
   "source": []
  }
 ],
 "metadata": {
  "kernelspec": {
   "display_name": "Python 3 (ipykernel)",
   "language": "python",
   "name": "python3"
  },
  "language_info": {
   "codemirror_mode": {
    "name": "ipython",
    "version": 3
   },
   "file_extension": ".py",
   "mimetype": "text/x-python",
   "name": "python",
   "nbconvert_exporter": "python",
   "pygments_lexer": "ipython3",
   "version": "3.9.12"
  }
 },
 "nbformat": 4,
 "nbformat_minor": 5
}
