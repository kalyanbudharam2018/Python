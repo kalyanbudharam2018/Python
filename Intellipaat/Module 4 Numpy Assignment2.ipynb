{
 "cells": [
  {
   "cell_type": "markdown",
   "id": "2eaee30d",
   "metadata": {},
   "source": [
    "## Problem Statement:\n",
    "You work in XYZ Corporation as a Data Analyst. Your corporation has told you to use the numpy\n",
    "package and do some tasks related to that:\n",
    "Tasks to be performed:\n"
   ]
  },
  {
   "cell_type": "code",
   "execution_count": 10,
   "id": "0966904b",
   "metadata": {},
   "outputs": [
    {
     "name": "stdout",
     "output_type": "stream",
     "text": [
      "[2 3 4 5 6 7 8 9]\n"
     ]
    }
   ],
   "source": [
    "# 1. Create a 3x3 matrix array with values ranging from 2 to 10.\n",
    "import numpy as np\n",
    "a=np.arange(2,10)\n",
    "print(a)"
   ]
  },
  {
   "cell_type": "markdown",
   "id": "e9a14cf8",
   "metadata": {},
   "source": [
    "2. Create a numpy array having user input values and convert the integer type to the float type\n",
    "of the elements of the array. For instance:\n",
    "Original array\n",
    "[1, 2, 3, 4]\n",
    "Array converted to a float type:\n",
    "[ 1. 2. 3. 4.]\n"
   ]
  },
  {
   "cell_type": "code",
   "execution_count": 32,
   "id": "570c2d94",
   "metadata": {
    "scrolled": true
   },
   "outputs": [
    {
     "name": "stdout",
     "output_type": "stream",
     "text": [
      "Enter the (1+last) value of array: 5\n",
      "[1 2 3 4]\n",
      "[1. 2. 3. 4.]\n"
     ]
    }
   ],
   "source": [
    "x=int(input('Enter the (1+last) value of array: '))\n",
    "a=np.arange(1,x)\n",
    "print(a)\n",
    "b=a.astype(float)\n",
    "print(b)\n"
   ]
  },
  {
   "cell_type": "markdown",
   "id": "0c23c254",
   "metadata": {},
   "source": [
    "3. Write a Numpy program to append values to the end of an array. For instance:\n",
    "Original array:\n",
    "[10, 20, 30]\n",
    "After append values to the end of the array:\n",
    "[10 20 30 40 50 60 70 80 90]\n",
    "\n",
    "\n"
   ]
  },
  {
   "cell_type": "code",
   "execution_count": 41,
   "id": "e415ad10",
   "metadata": {},
   "outputs": [
    {
     "name": "stdout",
     "output_type": "stream",
     "text": [
      "[10 20 30 40 50 60 70 80 90]\n"
     ]
    }
   ],
   "source": [
    "o=np.array([10,20,30])\n",
    "p=np.append(o,[40,50,60,70,80,90])\n",
    "print(p)"
   ]
  },
  {
   "cell_type": "markdown",
   "id": "25404d73",
   "metadata": {},
   "source": [
    "4. Create two numpy arrays and add the elements of both the arrays and store the result in\n",
    "sumArray"
   ]
  },
  {
   "cell_type": "code",
   "execution_count": 43,
   "id": "3649c59c",
   "metadata": {},
   "outputs": [
    {
     "name": "stdout",
     "output_type": "stream",
     "text": [
      "21\n"
     ]
    }
   ],
   "source": [
    "a=np.array([1,2,3])\n",
    "b=np.array([4,5,6])\n",
    "sumarray=np.sum(a+b)\n",
    "print(sumarray)"
   ]
  },
  {
   "cell_type": "markdown",
   "id": "e1df2a7b",
   "metadata": {},
   "source": [
    "5. Create a 3*3 array having values from 10-90(interval of 10) and store that in array1. Perform\n",
    "the following tasks:\n",
    "a. Extract the 1st row from the array.\n",
    "b. Extract the last element from the array."
   ]
  },
  {
   "cell_type": "code",
   "execution_count": 49,
   "id": "b7dd4099",
   "metadata": {},
   "outputs": [
    {
     "name": "stdout",
     "output_type": "stream",
     "text": [
      "[10 20 30 40 50 60 70 80]\n"
     ]
    }
   ],
   "source": [
    "array1=np.arange(10,90,10)\n",
    "print(array1)"
   ]
  },
  {
   "cell_type": "code",
   "execution_count": 63,
   "id": "bbfe8ab0",
   "metadata": {},
   "outputs": [
    {
     "name": "stdout",
     "output_type": "stream",
     "text": [
      "[10 20 30 40 50 60 70 80]\n",
      "[80]\n"
     ]
    }
   ],
   "source": [
    "# a. Extract the 1st row from the array. \n",
    "print(array1[0:])\n",
    "\n",
    "# b. Extract the last element from the array.\n",
    "print(array1[-1:])"
   ]
  },
  {
   "cell_type": "code",
   "execution_count": null,
   "id": "8b96e9bc",
   "metadata": {},
   "outputs": [],
   "source": []
  }
 ],
 "metadata": {
  "kernelspec": {
   "display_name": "Python 3 (ipykernel)",
   "language": "python",
   "name": "python3"
  },
  "language_info": {
   "codemirror_mode": {
    "name": "ipython",
    "version": 3
   },
   "file_extension": ".py",
   "mimetype": "text/x-python",
   "name": "python",
   "nbconvert_exporter": "python",
   "pygments_lexer": "ipython3",
   "version": "3.9.12"
  }
 },
 "nbformat": 4,
 "nbformat_minor": 5
}
