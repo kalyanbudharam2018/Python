{
 "cells": [
  {
   "cell_type": "markdown",
   "id": "9cc8abde",
   "metadata": {},
   "source": [
    "### 1. Create 1st tuple with values -> (10,20,30), 2nd tuple with values -> (40,50,60). "
   ]
  },
  {
   "cell_type": "code",
   "execution_count": 10,
   "id": "a2206a4b",
   "metadata": {},
   "outputs": [
    {
     "name": "stdout",
     "output_type": "stream",
     "text": [
      "(10, 20, 30, 40, 50, 60)\n",
      "(10, 20, 30, 40, 50, 60, 10, 20, 30, 40, 50, 60, 10, 20, 30, 40, 50, 60)\n",
      "30\n",
      "(10, 20, 30)\n",
      "(40, 50, 60)\n"
     ]
    }
   ],
   "source": [
    "t1=(10,20,30)\n",
    "t2=(40,50,60)\n",
    "type(t2)\n",
    "\n",
    "# a. Concatenate the two tuples and store it in “t_combine”\n",
    "t_combine=t1+t2\n",
    "print(t_combine)\n",
    "\n",
    "# b. Repeat the elements of “t_combine” 3 times\n",
    "print(t_combine*3)\n",
    "\n",
    "# c. Access the 3rd element from “t_combine”\n",
    "print(t_combine[2])\n",
    "\n",
    "# d. Access the first three elements from “t_combine”\n",
    "print(t_combine[0:3])\n",
    "\n",
    "# e. Access the last three elements from “t_combine”\n",
    "print(t_combine[-3:])"
   ]
  },
  {
   "cell_type": "markdown",
   "id": "cd390df8",
   "metadata": {},
   "source": [
    "## 2. Create a list ‘my_list’ with these elements: "
   ]
  },
  {
   "cell_type": "code",
   "execution_count": 30,
   "id": "a0d72016",
   "metadata": {},
   "outputs": [
    {
     "name": "stdout",
     "output_type": "stream",
     "text": [
      "(1, 2, 3, 'a', 'b', 'c', 'True', 'False')\n"
     ]
    },
    {
     "data": {
      "text/plain": [
       "tuple"
      ]
     },
     "execution_count": 30,
     "metadata": {},
     "output_type": "execute_result"
    }
   ],
   "source": [
    "# a. First element is a tuple with values 1,2,3 \n",
    "a=(1,2,3)\n",
    "\n",
    "# b. Second element is a tuple with values “a”,”b”,”c”\n",
    "b= ('a','b','c')\n",
    "\n",
    "# c. Third element is a tuple with values True,False \n",
    "c=('True', 'False')\n",
    "\n",
    "my_list=a+b+c\n",
    "print(my_list)\n",
    "type(my_list)"
   ]
  },
  {
   "cell_type": "markdown",
   "id": "7fb66834",
   "metadata": {},
   "source": [
    "## 3. Append a new tuple – (1,’a’,True) to ‘my_list’\n"
   ]
  },
  {
   "cell_type": "code",
   "execution_count": 31,
   "id": "30ee5254",
   "metadata": {},
   "outputs": [
    {
     "name": "stdout",
     "output_type": "stream",
     "text": [
      "<class 'list'>\n",
      "(1, 2, 3, 'a', 'b', 'c', 'True', 'False', 'sparta', '123+')\n"
     ]
    },
    {
     "data": {
      "text/plain": [
       "tuple"
      ]
     },
     "execution_count": 31,
     "metadata": {},
     "output_type": "execute_result"
    }
   ],
   "source": [
    "# a. Append a new list – *“sparta”,123+ to my_list \n",
    "'''my_list.append('sparta', '123+')\n",
    "print(my_list)'''\n",
    "\n",
    "my_list=list(my_list)\n",
    "print(type(my_list))\n",
    "my_list.append('sparta')\n",
    "my_list.append('123+')\n",
    "my_list=tuple(my_list)\n",
    "print(my_list)\n",
    "type(my_list)"
   ]
  },
  {
   "cell_type": "markdown",
   "id": "d384b06a",
   "metadata": {},
   "source": [
    "## 4. Create a dictionary ‘fruit’ where: \n"
   ]
  },
  {
   "cell_type": "code",
   "execution_count": 52,
   "id": "1336ea5f",
   "metadata": {},
   "outputs": [
    {
     "name": "stdout",
     "output_type": "stream",
     "text": [
      "('Apple', 'Banana', 'Mango', 'Guava')\n",
      "{'Fruit': ('Apple', 'Banana', 'Mango', 'Guava'), 'Cost': (85, 54, 120, 70)}\n",
      "dict_keys(['Fruit', 'Cost'])\n",
      "dict_values([('Apple', 'Banana', 'Mango', 'Guava'), (85, 54, 120, 70)])\n"
     ]
    }
   ],
   "source": [
    "# a. The first key is ‘Fruit’ and the values are (“Apple”,”Banana”,”Mango”,”Guava”)\n",
    "fruit={\"Fruit\":('Apple', 'Banana','Mango','Guava')}\n",
    "print(fruit[\"Fruit\"])\n",
    "\n",
    "# b. The second key is ‘Cost’ and the values are (85,54,120,70) \n",
    "fruit[\"Cost\"]=(85,54,120,70)\n",
    "print(fruit)\n",
    "\n",
    "# c. Extract all the keys from ‘fruit’\n",
    "print(fruit.keys())\n",
    "\n",
    "# d. Extract all the values from ‘fruit’\n",
    "print(fruit.values())\n"
   ]
  },
  {
   "cell_type": "markdown",
   "id": "b8216d4d",
   "metadata": {},
   "source": [
    "## 5. Crete a set named ‘my_set’ with values (1,1,”a”,”a”,True,True) and print the result "
   ]
  },
  {
   "cell_type": "code",
   "execution_count": 56,
   "id": "63ba9b95",
   "metadata": {},
   "outputs": [
    {
     "name": "stdout",
     "output_type": "stream",
     "text": [
      "{1, 'a', 'True'}\n"
     ]
    },
    {
     "data": {
      "text/plain": [
       "set"
      ]
     },
     "execution_count": 56,
     "metadata": {},
     "output_type": "execute_result"
    }
   ],
   "source": [
    "my_set= {1,1,'a','a','True','True'}\n",
    "print(my_set)\n",
    "type(my_set)"
   ]
  },
  {
   "cell_type": "code",
   "execution_count": null,
   "id": "2f204b22",
   "metadata": {},
   "outputs": [],
   "source": []
  }
 ],
 "metadata": {
  "kernelspec": {
   "display_name": "Python 3 (ipykernel)",
   "language": "python",
   "name": "python3"
  },
  "language_info": {
   "codemirror_mode": {
    "name": "ipython",
    "version": 3
   },
   "file_extension": ".py",
   "mimetype": "text/x-python",
   "name": "python",
   "nbconvert_exporter": "python",
   "pygments_lexer": "ipython3",
   "version": "3.9.12"
  }
 },
 "nbformat": 4,
 "nbformat_minor": 5
}
