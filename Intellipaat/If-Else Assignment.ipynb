{
 "cells": [
  {
   "cell_type": "markdown",
   "id": "8f7cfec1",
   "metadata": {},
   "source": [
    "### Problem Statement:\n",
    "You work in XYZ Corporation as a Data Analyst. Your company has told you to work with the IfElse Conditions.\n",
    "Tasks to be performed:\n",
    "1. Input the values of a and b as 10 and 20 respectively. Now check if a is greater or b is greater\n",
    "using if condition. Think about all the edge cases, and print the statements accordingly.\n"
   ]
  },
  {
   "cell_type": "code",
   "execution_count": 9,
   "id": "c3f09374",
   "metadata": {},
   "outputs": [
    {
     "name": "stdout",
     "output_type": "stream",
     "text": [
      "Enter a number1: 10\n",
      "Enter a number2: 20\n",
      "The number 20 is greater than 10.\n"
     ]
    }
   ],
   "source": [
    "a=int(input('Enter a number1: '))\n",
    "b=int(input('Enter a number2: '))\n",
    "if a>b:\n",
    "    print('The number %d is greater than %d.'%(a,b))\n",
    "else:\n",
    "        print('The number %d is greater than %d.'%(b,a))"
   ]
  },
  {
   "cell_type": "code",
   "execution_count": null,
   "id": "7bbc679d",
   "metadata": {},
   "outputs": [],
   "source": []
  }
 ],
 "metadata": {
  "kernelspec": {
   "display_name": "Python 3 (ipykernel)",
   "language": "python",
   "name": "python3"
  },
  "language_info": {
   "codemirror_mode": {
    "name": "ipython",
    "version": 3
   },
   "file_extension": ".py",
   "mimetype": "text/x-python",
   "name": "python",
   "nbconvert_exporter": "python",
   "pygments_lexer": "ipython3",
   "version": "3.9.12"
  }
 },
 "nbformat": 4,
 "nbformat_minor": 5
}
