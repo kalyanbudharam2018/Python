{
 "cells": [
  {
   "cell_type": "markdown",
   "id": "1c357ccb",
   "metadata": {},
   "source": [
    "Problem Statement:\n",
    "You work in XYZ Corporation as a Data Analyst. Your corporation has told you to work on\n",
    "functions and classes.\n",
    "Tasks to be performed:"
   ]
  },
  {
   "cell_type": "code",
   "execution_count": 10,
   "id": "e44d50c2",
   "metadata": {},
   "outputs": [
    {
     "name": "stdout",
     "output_type": "stream",
     "text": [
      "Input a number to compute the factiorial : 4\n",
      "24\n"
     ]
    }
   ],
   "source": [
    "# 1. Create a function named ‘factor’ that can only accepts 1 argument. The function should return the factorial of that number.\n",
    "def factor(n):\n",
    "    if n == 0:\n",
    "        return 1\n",
    "    else:\n",
    "        return n * factor(n-1)\n",
    "n=int(input(\"Input a number to compute the factiorial : \"))\n",
    "print(factor(n))"
   ]
  },
  {
   "cell_type": "code",
   "execution_count": 87,
   "id": "7810ddb2",
   "metadata": {},
   "outputs": [
    {
     "name": "stdout",
     "output_type": "stream",
     "text": [
      "\n",
      "Factorial of 5:  120\n",
      "\n",
      "Factorial of -12:  Number can't be negative or floating point!\n"
     ]
    }
   ],
   "source": [
    "def factorial(n):\n",
    "    if not ((n >= 0) and (n % 1 == 0)):\n",
    "        return(\"Number can't be negative or floating point!\")\n",
    "    return 1 if n == 0 else n * factorial(n - 1)\n",
    "\n",
    "print(\"\\nFactorial of 5: \",factorial(5))\n",
    "print(\"\\nFactorial of -12: \",factorial(-12))"
   ]
  },
  {
   "cell_type": "code",
   "execution_count": 61,
   "id": "e09ef9cb",
   "metadata": {},
   "outputs": [
    {
     "name": "stdout",
     "output_type": "stream",
     "text": [
      "The stirng not containing the letter s\n",
      "The stirng is containing the letter s\n"
     ]
    }
   ],
   "source": [
    "# 2. Create a function named ‘check_string’, the function should accept a string data from the\n",
    "# user and the function should check if the user input contains the letter ‘s’ in it. If it contains\n",
    "# the letter ‘s’ then print- ‘The string is containing the letter ‘s’’, if not then print- ‘The string\n",
    "# doesn’t contain the letter ‘s’’.\n",
    "\n",
    "def check_string(a):\n",
    "    for i in a:\n",
    "        a.lower()\n",
    "        if i=='s':\n",
    "            print('The stirng is containing the letter s')\n",
    "        else:\n",
    "            print('The stirng not containing the letter s')\n",
    "        break\n",
    "\n",
    "check_string('my')\n",
    "check_string('solapur')"
   ]
  },
  {
   "cell_type": "code",
   "execution_count": 89,
   "id": "6b7a609f",
   "metadata": {},
   "outputs": [
    {
     "name": "stdout",
     "output_type": "stream",
     "text": [
      "enter a number:45\n",
      "You have been entered value : 4\n"
     ]
    }
   ],
   "source": [
    "# 3. Create a class named ‘student’ and inside the class, create a function named ‘fun1’- this\n",
    "# method should accepts the user defined input and return that value.\n",
    "# a. Create another method named- message() and that method should print the user\n",
    "# defined input that we have defined in ‘fun1’\n",
    "class student():\n",
    "    def fun1(n):\n",
    "        return n\n",
    "    def message():\n",
    "        print('You have been entered value :',n)\n",
    "student.fun1(input('enter a number:'))\n",
    "student.message()"
   ]
  },
  {
   "cell_type": "code",
   "execution_count": 111,
   "id": "e8fbcf23",
   "metadata": {},
   "outputs": [
    {
     "name": "stdout",
     "output_type": "stream",
     "text": [
      "10\n"
     ]
    }
   ],
   "source": [
    "# 4. Create a lambda function that should double or multiply the number (that we will be passing\n",
    "# in the lambda function) by 2. Store the lambda function in a variable named ‘double_num’.\n",
    "c=lambda a:(a*2)\n",
    "print(c(5))"
   ]
  },
  {
   "cell_type": "code",
   "execution_count": 130,
   "id": "bc6148a9",
   "metadata": {},
   "outputs": [
    {
     "name": "stdout",
     "output_type": "stream",
     "text": [
      "Please enter the name:aslfjlk\n",
      "No\n"
     ]
    }
   ],
   "source": [
    "# 5. Take user input string and check whether that string is palindrome or not.\n",
    "# a=str(input('enter the name:'))\n",
    "# j=len(a)\n",
    "# for i in a:\n",
    "#     if i==(len(a)-j):\n",
    "#         print('Given name is palindrome')\n",
    "#     else:\n",
    "#         print('Given name is not palindrome')\n",
    "#         i+=1\n",
    "#         j+=1\n",
    "\n",
    "# from geeks for geeks\n",
    "def pal(s):\n",
    "    return s==s[::-1]\n",
    "s=str(input('Please enter the name:'))\n",
    "ans=pal(s)\n",
    "if ans:\n",
    "    print('Yes')\n",
    "else:\n",
    "    print('No')"
   ]
  },
  {
   "cell_type": "code",
   "execution_count": null,
   "id": "3fd53b37",
   "metadata": {},
   "outputs": [],
   "source": []
  },
  {
   "cell_type": "code",
   "execution_count": null,
   "id": "891e244c",
   "metadata": {},
   "outputs": [],
   "source": []
  }
 ],
 "metadata": {
  "kernelspec": {
   "display_name": "Python 3 (ipykernel)",
   "language": "python",
   "name": "python3"
  },
  "language_info": {
   "codemirror_mode": {
    "name": "ipython",
    "version": 3
   },
   "file_extension": ".py",
   "mimetype": "text/x-python",
   "name": "python",
   "nbconvert_exporter": "python",
   "pygments_lexer": "ipython3",
   "version": "3.9.12"
  }
 },
 "nbformat": 4,
 "nbformat_minor": 5
}
