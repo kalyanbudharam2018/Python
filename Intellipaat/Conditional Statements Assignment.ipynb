{
 "cells": [
  {
   "cell_type": "markdown",
   "id": "c2b2216c",
   "metadata": {},
   "source": [
    "### Problem Statement:\n",
    "You work in XYZ Corporation as a Data Analyst. Your company has told you to work with the IfElse Conditions.\n",
    "Tasks to be performed:\n",
    "1. Take three user inputs and print the greatest number from those inputs using if-else\n",
    "condition. Edge cases if any, should also be handled."
   ]
  },
  {
   "cell_type": "code",
   "execution_count": 7,
   "id": "01247a31",
   "metadata": {},
   "outputs": [
    {
     "name": "stdout",
     "output_type": "stream",
     "text": [
      "Enter a number1: 55\n",
      "Enter a number2: 22\n",
      "Enter a number3: 15\n",
      "The number 55 is greater than 22 and 15.\n"
     ]
    }
   ],
   "source": [
    "a=int(input('Enter a number1: '))\n",
    "b=int(input('Enter a number2: '))\n",
    "c=int(input('Enter a number3: '))\n",
    "if a>b  and a>c:\n",
    "    print('The number %d is greater than %d and %d.'%(a,b,c))\n",
    "elif b>a and b>c:\n",
    "        print('The number %d is greater than %d and %d.'%(b,a,c))\n",
    "else:\n",
    "        print('The number %d is greater than %d and %d.'%(c,b,a))"
   ]
  },
  {
   "cell_type": "code",
   "execution_count": null,
   "id": "04cde14f",
   "metadata": {},
   "outputs": [],
   "source": []
  },
  {
   "cell_type": "code",
   "execution_count": null,
   "id": "03a75073",
   "metadata": {},
   "outputs": [],
   "source": []
  }
 ],
 "metadata": {
  "kernelspec": {
   "display_name": "Python 3 (ipykernel)",
   "language": "python",
   "name": "python3"
  },
  "language_info": {
   "codemirror_mode": {
    "name": "ipython",
    "version": 3
   },
   "file_extension": ".py",
   "mimetype": "text/x-python",
   "name": "python",
   "nbconvert_exporter": "python",
   "pygments_lexer": "ipython3",
   "version": "3.9.12"
  }
 },
 "nbformat": 4,
 "nbformat_minor": 5
}
