{
 "cells": [
  {
   "cell_type": "markdown",
   "id": "324b5455",
   "metadata": {},
   "source": [
    "### Problem Statement:\n",
    "You work in XYZ Corporation as a Data Analyst. Your company has told you to work with the IfElse Conditions.\n",
    "Tasks to be performed:\n",
    "\n",
    "Create a list that is having 10,23,4,26,4,75,24,54 values and with the help of while loop, fetch\n",
    "the even numbers and print the numbers."
   ]
  },
  {
   "cell_type": "code",
   "execution_count": null,
   "id": "11b29ba3",
   "metadata": {},
   "outputs": [],
   "source": [
    "a=[10,23,4,26,4,75,24,54]\n",
    "i=0\n",
    "while (i<len(a)):\n",
    "    \n",
    "    if a[i]%2==0:\n",
    "        print(a[i], end=\" \")\n",
    "    i+=1\n"
   ]
  },
  {
   "cell_type": "code",
   "execution_count": null,
   "id": "5d46f96e",
   "metadata": {},
   "outputs": [],
   "source": [
    "cs=12\n",
    "cs\n"
   ]
  },
  {
   "cell_type": "code",
   "execution_count": null,
   "id": "819a338f",
   "metadata": {},
   "outputs": [],
   "source": []
  }
 ],
 "metadata": {
  "kernelspec": {
   "display_name": "Python 3 (ipykernel)",
   "language": "python",
   "name": "python3"
  },
  "language_info": {
   "codemirror_mode": {
    "name": "ipython",
    "version": 3
   },
   "file_extension": ".py",
   "mimetype": "text/x-python",
   "name": "python",
   "nbconvert_exporter": "python",
   "pygments_lexer": "ipython3",
   "version": "3.9.12"
  }
 },
 "nbformat": 4,
 "nbformat_minor": 5
}
