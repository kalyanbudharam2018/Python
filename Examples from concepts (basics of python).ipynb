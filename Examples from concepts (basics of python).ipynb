{
 "cells": [
  {
   "cell_type": "markdown",
   "id": "ad3a6633",
   "metadata": {},
   "source": [
    "# mod 1 & 2"
   ]
  },
  {
   "cell_type": "code",
   "execution_count": 20,
   "id": "87712356",
   "metadata": {},
   "outputs": [
    {
     "data": {
      "text/plain": [
       "(int, float, complex)"
      ]
     },
     "execution_count": 20,
     "metadata": {},
     "output_type": "execute_result"
    }
   ],
   "source": [
    "# numbers\n",
    "n=123\n",
    "m=13.6\n",
    "b=6j\n",
    "type(n), type(m), type(b)"
   ]
  },
  {
   "cell_type": "code",
   "execution_count": 27,
   "id": "2308ae9c",
   "metadata": {},
   "outputs": [
    {
     "name": "stdout",
     "output_type": "stream",
     "text": [
      "<class 'str'>\n",
      "a\n",
      "pyt\n"
     ]
    },
    {
     "data": {
      "text/plain": [
       "'fuplace'"
      ]
     },
     "execution_count": 27,
     "metadata": {},
     "output_type": "execute_result"
    }
   ],
   "source": [
    "# stings\n",
    "var1='okay'\n",
    "var2='pythontut'\n",
    "print(type(var1))\n",
    "print(var1[2])\n",
    "print(var2[0:3])\n",
    "\n",
    "st='replace'\n",
    "st.replace('re','fu')"
   ]
  },
  {
   "cell_type": "code",
   "execution_count": 29,
   "id": "7319f0fb",
   "metadata": {},
   "outputs": [
    {
     "data": {
      "text/plain": [
       "('a', 'b', 'c', 'd')"
      ]
     },
     "execution_count": 29,
     "metadata": {},
     "output_type": "execute_result"
    }
   ],
   "source": [
    "# tuples\n",
    "m=('a','b','c')\n",
    "m+=('d',)       # concatenate\n",
    "m"
   ]
  },
  {
   "cell_type": "code",
   "execution_count": 5,
   "id": "e73e4929",
   "metadata": {},
   "outputs": [
    {
     "name": "stdout",
     "output_type": "stream",
     "text": [
      "andy 15\n",
      "john 20\n"
     ]
    }
   ],
   "source": [
    "# dict\n",
    "sal={'andy':15, 'john':20}\n",
    "for key, val in sal.items():\n",
    "    print(key, val)"
   ]
  },
  {
   "cell_type": "code",
   "execution_count": 19,
   "id": "d527a4e5",
   "metadata": {},
   "outputs": [
    {
     "name": "stdout",
     "output_type": "stream",
     "text": [
      "[3, 6, 9, 12, 15, 18, 21, 24, 27]\n"
     ]
    }
   ],
   "source": [
    "# add values in lists\n",
    "s=[]\n",
    "for i in range(3,30,3):\n",
    "    s.append(i)\n",
    "print(s)"
   ]
  },
  {
   "cell_type": "code",
   "execution_count": 26,
   "id": "599c536a",
   "metadata": {},
   "outputs": [
    {
     "name": "stdout",
     "output_type": "stream",
     "text": [
      "[0, 1, 2, 3, 4, 5, 6, 7, 8, 9]\n",
      "(0, 1, 2, 3, 4, 5, 6, 7, 8, 9)\n",
      "{0, 1, 2, 3, 4, 5, 6, 7, 8, 9}\n",
      "{0: 0, 1: 1, 2: 4, 3: 9, 4: 16, 5: 25, 6: 36, 7: 49, 8: 64, 9: 81}\n"
     ]
    },
    {
     "data": {
      "text/plain": [
       "(None, None, None, None)"
      ]
     },
     "execution_count": 26,
     "metadata": {},
     "output_type": "execute_result"
    }
   ],
   "source": [
    "# differences\n",
    "l=[x for x in range(0,10)]\n",
    "d=tuple(x for x in range(0,10))\n",
    "a={x for x in range(0,10)}\n",
    "s={x: x*x for x in range(0,10)}\n",
    "\n",
    "print(l), print(d),print(a),print(s)"
   ]
  },
  {
   "cell_type": "code",
   "execution_count": 53,
   "id": "be48720b",
   "metadata": {},
   "outputs": [
    {
     "name": "stdout",
     "output_type": "stream",
     "text": [
      "0, 1, 2, 3, 4, 5, 6, 7, 8, 9, \n",
      "\n",
      "10, 9, 8, 7, 6, 5, 4, 3, 2, 1, "
     ]
    }
   ],
   "source": [
    "# loops\n",
    "for i in range(0,10):\n",
    "    print(i, end=', ')\n",
    "\n",
    "print('\\n')\n",
    "a=10\n",
    "while (a!=0):\n",
    "    print(a, end=', ')\n",
    "    a-=1"
   ]
  },
  {
   "cell_type": "code",
   "execution_count": 58,
   "id": "e6977bab",
   "metadata": {},
   "outputs": [
    {
     "name": "stdout",
     "output_type": "stream",
     "text": [
      "0, 1, 2, 3, 4, 5, 6, 7, 8, 9, done\n"
     ]
    }
   ],
   "source": [
    "# index\n",
    "n=[x for x in range(0,10)]\n",
    "index=0\n",
    "while index<len(n):\n",
    "    print(n[index], end=', ')\n",
    "    index+=1\n",
    "print('done')"
   ]
  },
  {
   "cell_type": "code",
   "execution_count": 84,
   "id": "b860f60b",
   "metadata": {},
   "outputs": [
    {
     "name": "stdout",
     "output_type": "stream",
     "text": [
      "21320112582213623867636361986412861490866779997086557029538602568209171295166015625\n",
      "50\n"
     ]
    },
    {
     "data": {
      "text/plain": [
       "180"
      ]
     },
     "execution_count": 84,
     "metadata": {},
     "output_type": "execute_result"
    }
   ],
   "source": [
    "# functions\n",
    "x= lambda a: a**30\n",
    "print(x(555))\n",
    "\n",
    "def sum(x):\n",
    "     return lambda a:a+x\n",
    "ms=sum(45)\n",
    "print(ms(5))\n",
    "\n",
    "mul=lambda x,y: x*y\n",
    "mul(45,2)\n",
    "\n",
    "def mul(x,y):\n",
    "    return x*y\n",
    "mul(90,2)"
   ]
  },
  {
   "cell_type": "code",
   "execution_count": 85,
   "id": "9fe05560",
   "metadata": {},
   "outputs": [
    {
     "name": "stdout",
     "output_type": "stream",
     "text": [
      "called F with15\n",
      "150\n"
     ]
    }
   ],
   "source": [
    "# funciton\n",
    "def cm(x):\n",
    "    return lambda y:x*y\n",
    "mul=cm(10)\n",
    "def execute(f, arg):\n",
    "    print('called F with' + str(arg))\n",
    "    return f(arg)\n",
    "\n",
    "print(execute(mul,15))"
   ]
  },
  {
   "cell_type": "code",
   "execution_count": 99,
   "id": "1c95c49e",
   "metadata": {},
   "outputs": [
    {
     "name": "stdout",
     "output_type": "stream",
     "text": [
      "73\n"
     ]
    }
   ],
   "source": [
    "# file handling\n",
    "f=open('newfile.txt', 'a')\n",
    "a=f.write('im a kalyan: millinaire data scientist and successful in everything i do ')\n",
    "print(a)\n",
    "f.close()\n"
   ]
  },
  {
   "cell_type": "code",
   "execution_count": null,
   "id": "c4c9adf6",
   "metadata": {},
   "outputs": [],
   "source": []
  }
 ],
 "metadata": {
  "kernelspec": {
   "display_name": "Python 3 (ipykernel)",
   "language": "python",
   "name": "python3"
  },
  "language_info": {
   "codemirror_mode": {
    "name": "ipython",
    "version": 3
   },
   "file_extension": ".py",
   "mimetype": "text/x-python",
   "name": "python",
   "nbconvert_exporter": "python",
   "pygments_lexer": "ipython3",
   "version": "3.9.12"
  }
 },
 "nbformat": 4,
 "nbformat_minor": 5
}
