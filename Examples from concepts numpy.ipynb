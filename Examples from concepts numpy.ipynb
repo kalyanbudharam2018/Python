{
 "cells": [
  {
   "cell_type": "code",
   "execution_count": 15,
   "id": "cc937f10",
   "metadata": {},
   "outputs": [
    {
     "name": "stdout",
     "output_type": "stream",
     "text": [
      "[1 2 3]\n",
      "[[ 1  2  3]\n",
      " [ 2 34  4]]\n",
      "\n",
      "[[ 1  2  3]\n",
      " [ 2 34  4]\n",
      " [ 4  5  6]]\n",
      "<class 'numpy.ndarray'>\n"
     ]
    }
   ],
   "source": [
    "import numpy as np\n",
    "a=np.array([1,2,3])\n",
    "print(a)\n",
    "# 2d array\n",
    "b=np.array([[1,2,3],[2,34,4]])\n",
    "print(b)\n",
    "print()\n",
    "c=np.array([[1,2,3],[2,34,4],[4,5,6]])\n",
    "print(c)\n",
    "print(type(c))"
   ]
  },
  {
   "cell_type": "code",
   "execution_count": 18,
   "id": "0776b803",
   "metadata": {},
   "outputs": [
    {
     "data": {
      "text/plain": [
       "array([[0., 0., 0.],\n",
       "       [0., 0., 0.],\n",
       "       [0., 0., 0.],\n",
       "       [0., 0., 0.],\n",
       "       [0., 0., 0.]])"
      ]
     },
     "execution_count": 18,
     "metadata": {},
     "output_type": "execute_result"
    }
   ],
   "source": [
    "# Initialize an array of ‘x’ X ‘y’ dimension with 0\n",
    "np.zeros([5,3], dtype=float)"
   ]
  },
  {
   "cell_type": "code",
   "execution_count": 27,
   "id": "acfb4758",
   "metadata": {},
   "outputs": [
    {
     "data": {
      "text/plain": [
       "array([10, 15, 20])"
      ]
     },
     "execution_count": 27,
     "metadata": {},
     "output_type": "execute_result"
    }
   ],
   "source": [
    "# Arranging the numbers between x and y with an interval of z \n",
    "np.arange(10,25,5)"
   ]
  },
  {
   "cell_type": "code",
   "execution_count": 43,
   "id": "bf3375ba",
   "metadata": {},
   "outputs": [
    {
     "name": "stdout",
     "output_type": "stream",
     "text": [
      "[5 5 5 6 6 7]\n",
      "[5.  5.4 5.8 6.2 6.6 7. ]\n",
      "[5.  5.4 5.8 6.2 6.6 7. ]\n",
      "[5]\n"
     ]
    }
   ],
   "source": [
    "# Arranging ‘z’ numbers between x and y\n",
    "print(np.linspace(5,7,6, dtype=int))\n",
    "print(np.linspace(5,7,6, dtype=float))\n",
    "print(np.linspace(5,7,6)) # default is float\n",
    "\n",
    "print(np.arange(5,7,6))"
   ]
  },
  {
   "cell_type": "code",
   "execution_count": 57,
   "id": "0f67cc48",
   "metadata": {},
   "outputs": [
    {
     "data": {
      "text/plain": [
       "array([[3, 3],\n",
       "       [3, 3],\n",
       "       [3, 3]])"
      ]
     },
     "execution_count": 57,
     "metadata": {},
     "output_type": "execute_result"
    }
   ],
   "source": [
    "# Filling SAME number in a array of dimension x X y \n",
    "np.full((3,2),3, order='F') # or np.full([3,2],3)"
   ]
  },
  {
   "cell_type": "code",
   "execution_count": 58,
   "id": "a3df189a",
   "metadata": {},
   "outputs": [
    {
     "data": {
      "text/plain": [
       "array([1, 1])"
      ]
     },
     "execution_count": 58,
     "metadata": {},
     "output_type": "execute_result"
    }
   ],
   "source": [
    "# Filling RANDOM numbers in a array of dimension x X y \n",
    "np.random.randint((2,2))"
   ]
  },
  {
   "cell_type": "code",
   "execution_count": 85,
   "id": "98315d23",
   "metadata": {},
   "outputs": [
    {
     "name": "stdout",
     "output_type": "stream",
     "text": [
      "(2, 3) \n",
      "\n",
      "[[ 1  2]\n",
      " [ 3  2]\n",
      " [34  4]]\n"
     ]
    }
   ],
   "source": [
    "# ndarray.shape \n",
    "c=np.array([[1,2,3],[2,34,4]])\n",
    "print(c.shape,'\\n')\n",
    "c.shape=(3,2)\n",
    "print(c)"
   ]
  },
  {
   "cell_type": "code",
   "execution_count": 86,
   "id": "8ed3bfd4",
   "metadata": {},
   "outputs": [
    {
     "data": {
      "text/plain": [
       "6"
      ]
     },
     "execution_count": 86,
     "metadata": {},
     "output_type": "execute_result"
    }
   ],
   "source": [
    "# ndarray.size\n",
    "# “Returns the count of number of elements in an array.”\n",
    "c.size"
   ]
  },
  {
   "cell_type": "code",
   "execution_count": 100,
   "id": "46ebc40b",
   "metadata": {},
   "outputs": [
    {
     "name": "stdout",
     "output_type": "stream",
     "text": [
      "1\n",
      "3\n"
     ]
    }
   ],
   "source": [
    "# ndarray.ndim\n",
    "# “Returns the dimension of the array.\n",
    "a=np.arange(24)\n",
    "print(a.ndim)\n",
    "b=a.reshape(2,4,3)\n",
    "print(b.ndim)"
   ]
  },
  {
   "cell_type": "code",
   "execution_count": 119,
   "id": "ed5cd6e8",
   "metadata": {},
   "outputs": [
    {
     "name": "stdout",
     "output_type": "stream",
     "text": [
      "6\n",
      "6\n",
      "8\n",
      "[0 6]\n",
      "[1 5]\n"
     ]
    }
   ],
   "source": [
    "# Addition using Numpy similar operations to subtract/multiply/division\n",
    "print(c.sum())\n",
    "\n",
    "print(np.sum([3,3]))\n",
    "\n",
    "a,b=3,5\n",
    "print(np.sum([a,b]))\n",
    "\n",
    "c= np.sum(([[0,1],[0,5]]), axis=0)  #add vertically\n",
    "print(c)\n",
    "\n",
    "d= np.sum(([[0,1],[0,5]]), axis=1) # add horizontally\n",
    "print(d)\n"
   ]
  },
  {
   "cell_type": "code",
   "execution_count": 125,
   "id": "102c0bc3",
   "metadata": {},
   "outputs": [
    {
     "name": "stdout",
     "output_type": "stream",
     "text": [
      "20.085536923187668\n",
      "1.7320508075688772\n",
      "0.1411200080598672\n",
      "-0.9899924966004454\n",
      "1.0986122886681098\n"
     ]
    }
   ],
   "source": [
    "# other calculation\n",
    "print(np.exp(3))\n",
    "print(np.sqrt(3))\n",
    "print(np.sin(3))\n",
    "print(np.cos(3))\n",
    "print(np.log(3))"
   ]
  },
  {
   "cell_type": "code",
   "execution_count": 135,
   "id": "8c0ed014",
   "metadata": {},
   "outputs": [
    {
     "name": "stdout",
     "output_type": "stream",
     "text": [
      "[False  True False]\n",
      "[[ True  True  True]\n",
      " [False  True False]]\n",
      "False\n"
     ]
    }
   ],
   "source": [
    "# Element-wise Comparison \n",
    "a=[1,2,3]\n",
    "b=[3,2,1]\n",
    "c=[1,2,3]\n",
    "print(np.equal(a,b))\n",
    "print(np.equal((a,b),(a,c)))\n",
    "\n",
    "# Array-wise Comparison \n",
    "print(np.array_equal(a,b))\n"
   ]
  },
  {
   "cell_type": "code",
   "execution_count": 140,
   "id": "612bf182",
   "metadata": {},
   "outputs": [
    {
     "name": "stdout",
     "output_type": "stream",
     "text": [
      "6\n",
      "1\n",
      "3\n",
      "2.0\n",
      "2.0\n",
      "1.0\n",
      "0.816496580927726\n"
     ]
    }
   ],
   "source": [
    "# Aggregate Functions \n",
    "a=[1,2,3]\n",
    "print(np.sum(a))\n",
    "print(np.min(a))\n",
    "print(np.max(a))\n",
    "print(np.mean(a))\n",
    "print(np.median(a))\n",
    "print(np.corrcoef(a))\n",
    "print(np.std(a))\n"
   ]
  },
  {
   "cell_type": "code",
   "execution_count": 146,
   "id": "29b3e44e",
   "metadata": {},
   "outputs": [
    {
     "name": "stdout",
     "output_type": "stream",
     "text": [
      "First array:\n",
      " [[1 2 3]\n",
      " [2 4 1]] \n",
      "\n",
      "Second array:\n",
      " [[1 2 3]\n",
      " [3 2 1]] \n",
      "\n",
      "First array + Second array \n",
      " [[2 4 6]\n",
      " [5 6 2]]\n",
      "First array - Second array \n",
      " [[ 0  0  0]\n",
      " [-1  2  0]]\n",
      "First array * Second array \n",
      " [[1 4 9]\n",
      " [6 8 1]]\n",
      "First array / Second array \n",
      " [[1.         1.         1.        ]\n",
      " [0.66666667 2.         1.        ]]\n"
     ]
    }
   ],
   "source": [
    "# Concept of Broadcasting \n",
    "a=np.array([[1,2,3],[2,4,1]])\n",
    "b=np.array([[1,2,3], [3,2,1]])\n",
    "print('First array:\\n',a,'\\n')\n",
    "print('Second array:\\n',b,'\\n')\n",
    "print('First array + Second array \\n',a+b)\n",
    "print('First array - Second array \\n',a-b)\n",
    "print('First array * Second array \\n',a*b)\n",
    "print('First array / Second array \\n',a/b)"
   ]
  },
  {
   "cell_type": "code",
   "execution_count": 167,
   "id": "da6bb129",
   "metadata": {},
   "outputs": [
    {
     "name": "stdout",
     "output_type": "stream",
     "text": [
      "[1 2 3]\n",
      "only rows [[1 2 3]\n",
      " [2 4 1]]\n",
      "only columns [2 4]\n",
      "\n",
      " [[2 3]\n",
      " [4 1]]\n"
     ]
    }
   ],
   "source": [
    "# Indexing and slicing in Python \n",
    "a=np.array([[1,2,3],[2,4,1]])\n",
    "print(a[0])\n",
    "print('only rows',a[0:])\n",
    "print('only columns',a[:,1])\n",
    "print('\\n',a[0:,1:])\n"
   ]
  },
  {
   "cell_type": "code",
   "execution_count": 186,
   "id": "4318856c",
   "metadata": {},
   "outputs": [
    {
     "name": "stdout",
     "output_type": "stream",
     "text": [
      "[1 2 3 3 2 1]\n",
      "\n",
      " [[1 2 3]\n",
      " [3 2 1]]\n",
      "\n",
      " [1 2 3 3 2 1]\n",
      "\n",
      " [[1 3]\n",
      " [2 2]\n",
      " [3 1]]\n"
     ]
    }
   ],
   "source": [
    "# Concatenating two arrays together \n",
    "a=np.array([1,2,3])\n",
    "b=np.array([3,2,1])\n",
    "print(np.concatenate((a,b),axis=0))\n",
    "\n",
    "# Stack arrays row-wise(vertically) \n",
    "print('\\n',np.vstack((a,b)))\n",
    "\n",
    "# Stack arrays column-wise(horizontally) \n",
    "print('\\n',np.hstack((a,b)))\n",
    "\n",
    "# Combining column wise stacked array \n",
    "print('\\n',np.column_stack((a,b)))"
   ]
  },
  {
   "cell_type": "code",
   "execution_count": 195,
   "id": "4f3f8e6c",
   "metadata": {},
   "outputs": [
    {
     "name": "stdout",
     "output_type": "stream",
     "text": [
      "[[ 0  1  2  3]\n",
      " [ 4  5  6  7]\n",
      " [ 8  9 10 11]\n",
      " [12 13 14 15]] \n",
      "\n",
      "\n",
      "[array([[ 0,  1],\n",
      "       [ 4,  5],\n",
      "       [ 8,  9],\n",
      "       [12, 13]]), array([[ 2,  3],\n",
      "       [ 6,  7],\n",
      "       [10, 11],\n",
      "       [14, 15]])] \n",
      "\n",
      "\n",
      "[array([[ 0,  1,  2],\n",
      "       [ 4,  5,  6],\n",
      "       [ 8,  9, 10],\n",
      "       [12, 13, 14]]), array([[ 3],\n",
      "       [ 7],\n",
      "       [11],\n",
      "       [15]]), array([], shape=(4, 0), dtype=int32)]\n"
     ]
    }
   ],
   "source": [
    "# Splitting Arrays \n",
    "x= np.arange(16).reshape(4,4)\n",
    "print(x, '\\n\\n')\n",
    "print(np.hsplit(x,2),'\\n\\n')\n",
    "print(np.hsplit(x, np.array([3,6])))"
   ]
  },
  {
   "cell_type": "code",
   "execution_count": null,
   "id": "2e4c45a9",
   "metadata": {},
   "outputs": [],
   "source": []
  }
 ],
 "metadata": {
  "kernelspec": {
   "display_name": "Python 3 (ipykernel)",
   "language": "python",
   "name": "python3"
  },
  "language_info": {
   "codemirror_mode": {
    "name": "ipython",
    "version": 3
   },
   "file_extension": ".py",
   "mimetype": "text/x-python",
   "name": "python",
   "nbconvert_exporter": "python",
   "pygments_lexer": "ipython3",
   "version": "3.9.12"
  }
 },
 "nbformat": 4,
 "nbformat_minor": 5
}
